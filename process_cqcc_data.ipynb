{
 "cells": [
  {
   "cell_type": "code",
   "execution_count": 3,
   "metadata": {},
   "outputs": [],
   "source": [
    "import soundfile as sf\n",
    "import librosa\n",
    "import numpy as np\n",
    "import matplotlib.pyplot as plt\n",
    "import scipy.fft as sp\n",
    "from numpy import fft"
   ]
  },
  {
   "cell_type": "code",
   "execution_count": 4,
   "metadata": {},
   "outputs": [],
   "source": [
    "# Take in data path\n",
    "# Return [spoof list, bonafide list]\n",
    "dev = True\n",
    "\n",
    "def create_bf_spf_lists(path):\n",
    "    f = open(path)\n",
    "    spoof_list = []\n",
    "    bonafide_list = []\n",
    "    for line in f:\n",
    "        tokens = line.strip().split()\n",
    "        if tokens[3] == 'spoof':\n",
    "            spoof_list.append(tokens[1])\n",
    "        else:\n",
    "            bonafide_list.append(tokens[1])\n",
    "    return [spoof_list, bonafide_list]\n",
    "\n",
    "[spoof_listf, bonafide_listf] = create_bf_spf_lists(\"DS_10283_3336\\LA\\LA\\ASVspoof2019_LA_asv_protocols\\ASVspoof2019.LA.asv.dev.female.trl.txt\")\n",
    "[spoof_listm, bonafide_listm] = create_bf_spf_lists(\"DS_10283_3336\\LA\\LA\\ASVspoof2019_LA_asv_protocols\\ASVspoof2019.LA.asv.dev.male.trl.txt\")\n",
    "\n",
    "#[spoof_listf, bonafide_listf] = create_bf_spf_lists(\"DS_10283_3336\\LA\\LA\\ASVspoof2019_LA_asv_protocols\\ASVspoof2019.LA.asv.eval.female.trl.txt\")\n",
    "#[spoof_listm, bonafide_listm] = create_bf_spf_lists(\"DS_10283_3336\\LA\\LA\\ASVspoof2019_LA_asv_protocols\\ASVspoof2019.LA.asv.eval.male.trl.txt\")"
   ]
  },
  {
   "cell_type": "code",
   "execution_count": 5,
   "metadata": {},
   "outputs": [],
   "source": [
    "def extract_time_data(list, num):\n",
    "    time_data = []\n",
    "    #fspoof = open(path, \"w\")\n",
    "    for i in range(num):\n",
    "        dpath = 'DS_10283_3336\\LA\\LA\\ASVspoof2019_LA_dev\\\\flac\\\\' + list[i] + '.flac'\n",
    "        #dpath = 'DS_10283_3336\\LA\\LA\\ASVspoof2019_LA_eval\\\\flac\\\\' + list[i] + '.flac'\n",
    "        x, sr = librosa.load(dpath, sr=44100)\n",
    "        time_data.append(x)\n",
    "    return (time_data, sr)\n",
    "\n",
    "ftime_data_spoof, sr = extract_time_data(spoof_listf, 4500)\n",
    "ftime_data_bonafide, sr = extract_time_data(bonafide_listf, 1500)\n",
    "mtime_data_spoof, sr = extract_time_data(spoof_listm, 4500)\n",
    "mtime_data_bonafide, sr = extract_time_data(bonafide_listm, 1500)"
   ]
  },
  {
   "cell_type": "code",
   "execution_count": 9,
   "metadata": {},
   "outputs": [],
   "source": [
    "def get_max_length(data):\n",
    "    return max(len(vector) for vector in data)\n",
    "\n",
    "def pad_or_truncate(data, max_length):\n",
    "    padded_data = []\n",
    "    for vector in data:\n",
    "        if len(vector) < max_length:\n",
    "            pad_width = max_length - len(vector)\n",
    "            padded_vector = np.pad(vector, pad_width=(0, pad_width), mode='constant')\n",
    "        elif len(vector) > max_length:\n",
    "            padded_vector = vector[:max_length]\n",
    "        else:\n",
    "            padded_vector = vector\n",
    "        padded_data.append(padded_vector)\n",
    "    return padded_data\n",
    "\n",
    "# Extract mfccs from time_data with padding\n",
    "def extract_cqcc(time_data, max_length):\n",
    "    padded_data = pad_or_truncate(time_data, max_length)\n",
    "    \n",
    "    cqcc_data = []\n",
    "    \n",
    "    for x in padded_data:\n",
    "        cqcc = librosa.cqt(y=x, sr=16000, hop_length=16384, n_bins=30)\n",
    "        logC = np.abs(cqcc)\n",
    "        librosa.feature.mfcc(S=logC)\n",
    "        # Flatten to a large vector\n",
    "\n",
    "        flattened_vector = np.array(logC).flatten()\n",
    "        cqcc_data.append(flattened_vector)\n",
    "        \n",
    "        #cqcc_data.append(logC)\n",
    "    \n",
    "    return np.array(cqcc_data)"
   ]
  },
  {
   "cell_type": "code",
   "execution_count": 10,
   "metadata": {},
   "outputs": [],
   "source": [
    "fmax_length = max(get_max_length(ftime_data_spoof), get_max_length(ftime_data_bonafide))\n",
    "mmax_length = max(get_max_length(mtime_data_spoof), get_max_length(mtime_data_bonafide))\n",
    "max_length = max(fmax_length, mmax_length)\n",
    "\n",
    "cqcc_spooff = extract_cqcc(ftime_data_spoof, max_length)\n",
    "cqcc_bonafidef = extract_cqcc(ftime_data_bonafide, max_length)\n",
    "\n",
    "cqcc_spoofm = extract_cqcc(mtime_data_spoof, max_length)\n",
    "cqcc_bonafidem = extract_cqcc(mtime_data_bonafide, max_length)"
   ]
  },
  {
   "cell_type": "code",
   "execution_count": 11,
   "metadata": {},
   "outputs": [],
   "source": [
    "np.set_printoptions(threshold=np.inf, precision=10, linewidth=np.inf, suppress=True)\n",
    "\n",
    "# Open files for writing\n",
    "with open(\"spoof_data_cqcc_male.txt\", \"w\") as fspoofw:\n",
    "    for row in cqcc_spoofm:\n",
    "        array_str = np.array_str(row)\n",
    "        fspoofw.write(array_str + '\\n')\n",
    "\n",
    "with open(\"bonafide_data_cqcc_male.txt\", \"w\") as fbonafidew:\n",
    "    for row in cqcc_bonafidem:\n",
    "        array_str = np.array_str(row)\n",
    "        fbonafidew.write(array_str + '\\n')\n",
    "\n",
    "with open(\"spoof_data_cqcc_female.txt\", \"w\") as fspoofw:\n",
    "    for row in cqcc_spooff:\n",
    "        array_str = np.array_str(row)\n",
    "        fspoofw.write(array_str + '\\n')\n",
    "\n",
    "with open(\"bonafide_cqcc_female.txt\", \"w\") as fbonafidew:\n",
    "    for row in cqcc_bonafidef:\n",
    "        array_str = np.array_str(row)\n",
    "        fbonafidew.write(array_str + '\\n')"
   ]
  }
 ],
 "metadata": {
  "kernelspec": {
   "display_name": "Python 3",
   "language": "python",
   "name": "python3"
  },
  "language_info": {
   "codemirror_mode": {
    "name": "ipython",
    "version": 3
   },
   "file_extension": ".py",
   "mimetype": "text/x-python",
   "name": "python",
   "nbconvert_exporter": "python",
   "pygments_lexer": "ipython3",
   "version": "3.11.7"
  }
 },
 "nbformat": 4,
 "nbformat_minor": 2
}
